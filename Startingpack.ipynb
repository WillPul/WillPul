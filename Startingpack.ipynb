{
 "cells": [
  {
   "cell_type": "code",
   "execution_count": 1,
   "id": "1b02e913",
   "metadata": {},
   "outputs": [
    {
     "name": "stdout",
     "output_type": "stream",
     "text": [
      "Hello world\n"
     ]
    }
   ],
   "source": [
    "print ('Hello world')"
   ]
  },
  {
   "cell_type": "code",
   "execution_count": 2,
   "id": "7817d391",
   "metadata": {},
   "outputs": [
    {
     "name": "stdout",
     "output_type": "stream",
     "text": [
      "print ('Hello world')\n",
      "history\n"
     ]
    }
   ],
   "source": [
    "history"
   ]
  },
  {
   "cell_type": "code",
   "execution_count": 3,
   "id": "1c6dba83",
   "metadata": {},
   "outputs": [
    {
     "data": {
      "text/plain": [
       "25"
      ]
     },
     "execution_count": 3,
     "metadata": {},
     "output_type": "execute_result"
    }
   ],
   "source": [
    "10 + 15"
   ]
  },
  {
   "cell_type": "code",
   "execution_count": 4,
   "id": "323c216e",
   "metadata": {},
   "outputs": [
    {
     "name": "stdout",
     "output_type": "stream",
     "text": [
      "25\n"
     ]
    }
   ],
   "source": [
    "print(10+15)"
   ]
  },
  {
   "cell_type": "code",
   "execution_count": 5,
   "id": "7b66a1d2",
   "metadata": {},
   "outputs": [
    {
     "data": {
      "text/plain": [
       "25"
      ]
     },
     "execution_count": 5,
     "metadata": {},
     "output_type": "execute_result"
    }
   ],
   "source": [
    "_"
   ]
  },
  {
   "cell_type": "code",
   "execution_count": 6,
   "id": "8ad52b6c",
   "metadata": {},
   "outputs": [
    {
     "data": {
      "text/plain": [
       "int"
      ]
     },
     "execution_count": 6,
     "metadata": {},
     "output_type": "execute_result"
    }
   ],
   "source": [
    "int"
   ]
  },
  {
   "cell_type": "code",
   "execution_count": 7,
   "id": "64c2657c",
   "metadata": {},
   "outputs": [
    {
     "data": {
      "text/plain": [
       "float"
      ]
     },
     "execution_count": 7,
     "metadata": {},
     "output_type": "execute_result"
    }
   ],
   "source": [
    "float"
   ]
  },
  {
   "cell_type": "code",
   "execution_count": 8,
   "id": "1d3bcf40",
   "metadata": {},
   "outputs": [
    {
     "name": "stdout",
     "output_type": "stream",
     "text": [
      "<class 'float'>\n"
     ]
    }
   ],
   "source": [
    "print (float)"
   ]
  },
  {
   "cell_type": "code",
   "execution_count": 9,
   "id": "6988822c",
   "metadata": {},
   "outputs": [
    {
     "data": {
      "text/plain": [
       "'5555'"
      ]
     },
     "execution_count": 9,
     "metadata": {},
     "output_type": "execute_result"
    }
   ],
   "source": [
    "\"5\"*4"
   ]
  },
  {
   "cell_type": "code",
   "execution_count": 10,
   "id": "54de4df9",
   "metadata": {},
   "outputs": [
    {
     "data": {
      "text/plain": [
       "'44444'"
      ]
     },
     "execution_count": 10,
     "metadata": {},
     "output_type": "execute_result"
    }
   ],
   "source": [
    "\"4\"*5"
   ]
  },
  {
   "cell_type": "code",
   "execution_count": 28,
   "id": "b87294b4",
   "metadata": {},
   "outputs": [
    {
     "ename": "SyntaxError",
     "evalue": "Missing parentheses in call to 'print'. Did you mean print(Pi * 1)? (<ipython-input-28-a5d3bcca8c72>, line 1)",
     "output_type": "error",
     "traceback": [
      "\u001b[0;36m  File \u001b[0;32m\"<ipython-input-28-a5d3bcca8c72>\"\u001b[0;36m, line \u001b[0;32m1\u001b[0m\n\u001b[0;31m    print Pi * 1\u001b[0m\n\u001b[0m           ^\u001b[0m\n\u001b[0;31mSyntaxError\u001b[0m\u001b[0;31m:\u001b[0m Missing parentheses in call to 'print'. Did you mean print(Pi * 1)?\n"
     ]
    }
   ],
   "source": [
    "print Pi * 1"
   ]
  },
  {
   "cell_type": "code",
   "execution_count": 18,
   "id": "0a17d681",
   "metadata": {},
   "outputs": [
    {
     "ename": "NameError",
     "evalue": "name 'TT' is not defined",
     "output_type": "error",
     "traceback": [
      "\u001b[0;31m---------------------------------------------------------------------------\u001b[0m",
      "\u001b[0;31mNameError\u001b[0m                                 Traceback (most recent call last)",
      "\u001b[0;32m<ipython-input-18-a209ef4e975c>\u001b[0m in \u001b[0;36m<module>\u001b[0;34m\u001b[0m\n\u001b[0;32m----> 1\u001b[0;31m \u001b[0mTT\u001b[0m\u001b[0;34m*\u001b[0m\u001b[0;36m1\u001b[0m\u001b[0;34m\u001b[0m\u001b[0;34m\u001b[0m\u001b[0m\n\u001b[0m",
      "\u001b[0;31mNameError\u001b[0m: name 'TT' is not defined"
     ]
    }
   ],
   "source": [
    "TT*1"
   ]
  },
  {
   "cell_type": "code",
   "execution_count": 29,
   "id": "715026d5",
   "metadata": {},
   "outputs": [],
   "source": [
    "TT = 3.1416"
   ]
  },
  {
   "cell_type": "code",
   "execution_count": 30,
   "id": "d9e5991b",
   "metadata": {},
   "outputs": [
    {
     "data": {
      "text/plain": [
       "6.2832"
      ]
     },
     "execution_count": 30,
     "metadata": {},
     "output_type": "execute_result"
    }
   ],
   "source": [
    "TT * 2"
   ]
  },
  {
   "cell_type": "code",
   "execution_count": 33,
   "id": "e8879c6f",
   "metadata": {},
   "outputs": [
    {
     "name": "stdout",
     "output_type": "stream",
     "text": [
      "3.1416\n"
     ]
    }
   ],
   "source": [
    "print (TT)"
   ]
  },
  {
   "cell_type": "markdown",
   "id": "ca6aca0c",
   "metadata": {},
   "source": [
    "# Operaciones entre variables \n",
    "## operaciones entre Variables\n",
    "### Operaciones entre varaibles "
   ]
  },
  {
   "cell_type": "code",
   "execution_count": 34,
   "id": "d96603db",
   "metadata": {},
   "outputs": [],
   "source": [
    "a=5\n",
    "b=-2\n",
    "c=4.6"
   ]
  },
  {
   "cell_type": "code",
   "execution_count": 35,
   "id": "86bff443",
   "metadata": {},
   "outputs": [],
   "source": [
    "Sum = a+b\n",
    "minus = a-b\n",
    "product = a*b"
   ]
  },
  {
   "cell_type": "code",
   "execution_count": 36,
   "id": "99115ddb",
   "metadata": {},
   "outputs": [],
   "source": [
    "cocient = a/b"
   ]
  },
  {
   "cell_type": "code",
   "execution_count": null,
   "id": "d36a6d0b",
   "metadata": {},
   "outputs": [],
   "source": []
  }
 ],
 "metadata": {
  "kernelspec": {
   "display_name": "Python 3",
   "language": "python",
   "name": "python3"
  },
  "language_info": {
   "codemirror_mode": {
    "name": "ipython",
    "version": 3
   },
   "file_extension": ".py",
   "mimetype": "text/x-python",
   "name": "python",
   "nbconvert_exporter": "python",
   "pygments_lexer": "ipython3",
   "version": "3.6.15"
  }
 },
 "nbformat": 4,
 "nbformat_minor": 5
}
